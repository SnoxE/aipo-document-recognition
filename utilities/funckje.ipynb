{
 "cells": [
  {
   "cell_type": "code",
   "execution_count": 494,
   "metadata": {},
   "outputs": [],
   "source": [
    "import cv2\n",
    "import matplotlib.pyplot as plt \n",
    "import numpy as np\n",
    "from pytesseract import image_to_string\n",
    "import pytesseract"
   ]
  },
  {
   "cell_type": "code",
   "execution_count": 495,
   "metadata": {},
   "outputs": [
    {
     "name": "stdout",
     "output_type": "stream",
     "text": [
      "Wysokość obrazu: 592\n",
      "Szerokość obrazu: 948\n",
      "Liczba kanałów obrazu: 3\n"
     ]
    }
   ],
   "source": [
    "img = cv2.imread('ID_1.jpg',cv2.IMREAD_COLOR) # wczytanie obrazka\n",
    "img = cv2.cvtColor(img, cv2.COLOR_BGR2RGB)\n",
    "b,g,r = cv2.split(img)\n",
    "height, width, channels = img.shape\n",
    "print(\"Wysokość obrazu:\", height)\n",
    "print(\"Szerokość obrazu:\", width)\n",
    "print(\"Liczba kanałów obrazu:\", channels)\n",
    "pytesseract.pytesseract.tesseract_cmd = 'C:\\Program Files\\Tesseract-OCR\\\\tesseract.exe'"
   ]
  },
  {
   "cell_type": "code",
   "execution_count": 496,
   "metadata": {},
   "outputs": [],
   "source": [
    "def dataUrodzeniaDowodOsobisty(img, height, width):\n",
    "    cropped_image = img[(int)(height*0.48):(int)(height*0.48+height*0.06), (int)(width*0.62):(int)(width*0.83)]\n",
    "    output = image_to_string(cropped_image, lang='eng+pol', config='--psm 6')\n",
    "    return output\n",
    "\n",
    "def imieDowodOsobisty(img, height, width):\n",
    "    cropped_image = img[(int)(height*0.35):(int)(height*0.35+height*0.1), (int)(width*0.35):(int)(width*0.75)]\n",
    "    output = image_to_string(cropped_image, lang='eng+pol', config='--psm 6')\n",
    "    return output\n",
    "\n",
    "def nazwiskoDowodOsobisty(img, height, width):\n",
    "    cropped_image = img[(int)(height*0.235):(int)(height*0.235+height*0.1), (int)(width*0.35):(int)(width*0.75)]\n",
    "    output = image_to_string(cropped_image, lang='eng+pol', config='--psm 6')\n",
    "    return output\n",
    "\n",
    "def wypiszDowodOsobisty(img,height,width):\n",
    "    print(imieDowodOsobisty(img,height,width))\n",
    "    print(nazwiskoDowodOsobisty(img,height,width))\n",
    "    print(dataUrodzeniaDowodOsobisty(img,height,width))\n",
    "\n",
    "def dataUrodzeniaPaszport(img, height, width):\n",
    "    cropped_image = img[(int)(height*0.345):(int)(height*0.345+height*0.06), (int)(width*0.29):(int)(width*0.56)]\n",
    "    output = image_to_string(cropped_image, lang='eng+pol', config='--psm 6')\n",
    "    return output\n",
    "\n",
    "def imiePaszport(img, height, width):\n",
    "    cropped_image = img[(int)(height*0.275):(int)(height*0.275+height*0.05), (int)(width*0.3):(int)(width*0.55)]\n",
    "    output = image_to_string(cropped_image, lang='eng+pol', config='--psm 6')\n",
    "    return output\n",
    "\n",
    "def nazwiskoPaszport(img, height, width):\n",
    "    cropped_image = img[(int)(height*0.2):(int)(height*0.2+height*0.05), (int)(width*0.3):(int)(width*0.55)]\n",
    "    output = image_to_string(cropped_image, lang='eng+pol', config='--psm 6')\n",
    "    return output\n",
    "\n",
    "\n",
    "def wypiszPaszport(img,height,width):\n",
    "    print(imiePaszport(img,height,width))\n",
    "    print(nazwiskoPaszport(img,height,width))\n",
    "    print(dataUrodzeniaPaszport(img,height,width))\n",
    "\n",
    "def dataUrodzeniaLegitymacja(img, height, width):\n",
    "    cropped_image = img[(int)(height*0.755):(int)(height*0.755+height*0.07), (int)(width*0.185):(int)(width*0.35)]\n",
    "    output = image_to_string(cropped_image, lang='eng+pol', config='--psm 6')\n",
    "    return output\n",
    "\n",
    "def imieLegitymacja(img, height, width):\n",
    "    cropped_image = img[(int)(height*0.4):(int)(height*0.4+height*0.05), (int)(width*0.35):(int)(width*0.65)]\n",
    "    output = image_to_string(cropped_image, lang='eng+pol', config='--psm 6')\n",
    "    return output\n",
    "\n",
    "def nazwiskoLegitymacja(img, height, width):\n",
    "    cropped_image = img[(int)(height*0.46):(int)(height*0.46+height*0.05), (int)(width*0.35):(int)(width*0.65)]\n",
    "    output = image_to_string(cropped_image, lang='eng+pol', config='--psm 6')\n",
    "    return output\n",
    "\n",
    "def wypiszLegitymacje(img,height,width):\n",
    "    print(imieLegitymacja(img,height,width))\n",
    "    print(nazwiskoLegitymacja(img,height,width))\n",
    "    print(dataUrodzeniaLegitymacja(img,height,width))\n",
    "\n",
    "def porownajDowod(image):\n",
    "    template = cv2.imread('DO.jpg')\n",
    "    image_gray = cv2.cvtColor(image, cv2.COLOR_BGR2GRAY)\n",
    "    template_gray = cv2.cvtColor(template, cv2.COLOR_BGR2GRAY)\n",
    "    result = cv2.matchTemplate(image_gray, template_gray, cv2.TM_CCOEFF_NORMED)\n",
    "    min_val, max_val, min_loc, max_loc = cv2.minMaxLoc(result)\n",
    "    similarity_percentage = max_val * 100\n",
    "    print(\"Podobieństwo procentowe:\", similarity_percentage)\n",
    "    return similarity_percentage\n",
    "\n",
    "def porownajPaszport(image):\n",
    "    template = cv2.imread('PS.jpg')\n",
    "    image_gray = cv2.cvtColor(image, cv2.COLOR_BGR2GRAY)\n",
    "    template_gray = cv2.cvtColor(template, cv2.COLOR_BGR2GRAY)\n",
    "    result = cv2.matchTemplate(image_gray, template_gray, cv2.TM_CCOEFF_NORMED)\n",
    "    min_val, max_val, min_loc, max_loc = cv2.minMaxLoc(result)\n",
    "    similarity_percentage = max_val * 100\n",
    "    print(\"Podobieństwo procentowe:\", similarity_percentage)\n",
    "    return similarity_percentage\n",
    "\n",
    "def porownajLegitymacje(image):\n",
    "    template = cv2.imread('LE.jpg')\n",
    "    image_gray = cv2.cvtColor(image, cv2.COLOR_BGR2GRAY)\n",
    "    template_gray = cv2.cvtColor(template, cv2.COLOR_BGR2GRAY)\n",
    "    result = cv2.matchTemplate(image_gray, template_gray, cv2.TM_CCOEFF_NORMED)\n",
    "    min_val, max_val, min_loc, max_loc = cv2.minMaxLoc(result)\n",
    "    similarity_percentage = max_val * 100\n",
    "    print(\"Podobieństwo procentowe:\", similarity_percentage)\n",
    "    return similarity_percentage\n",
    "\n",
    "def wypiszDane(image,height,width):\n",
    "    dow = porownajDowod(image)\n",
    "    pas = porownajPaszport(image)\n",
    "    leg = porownajLegitymacje(image)\n",
    "    if(dow > 80 or pas > 80 or leg > 80):\n",
    "        if(dow > pas and dow > leg):\n",
    "            wypiszDowodOsobisty(image,height,width)\n",
    "        elif((pas > dow and pas > leg)):\n",
    "            wypiszPaszport(image,height,width)\n",
    "        else:\n",
    "            wypiszLegitymacje(image,height,width)\n"
   ]
  },
  {
   "cell_type": "code",
   "execution_count": 497,
   "metadata": {},
   "outputs": [
    {
     "name": "stdout",
     "output_type": "stream",
     "text": [
      "\n"
     ]
    }
   ],
   "source": [
    "print()"
   ]
  },
  {
   "cell_type": "code",
   "execution_count": 498,
   "metadata": {},
   "outputs": [
    {
     "name": "stdout",
     "output_type": "stream",
     "text": [
      "Podobieństwo procentowe: 91.08452200889587\n",
      "Podobieństwo procentowe: 43.65493655204773\n",
      "Podobieństwo procentowe: 51.50606632232666\n",
      "MIROSLAW\n",
      "\n",
      "MALINOWSKI\n",
      "\n",
      "14/09/1975\n",
      "\n"
     ]
    }
   ],
   "source": [
    "wypiszDane(img,height,width)"
   ]
  }
 ],
 "metadata": {
  "kernelspec": {
   "display_name": "Python 3",
   "language": "python",
   "name": "python3"
  },
  "language_info": {
   "codemirror_mode": {
    "name": "ipython",
    "version": 3
   },
   "file_extension": ".py",
   "mimetype": "text/x-python",
   "name": "python",
   "nbconvert_exporter": "python",
   "pygments_lexer": "ipython3",
   "version": "3.11.9"
  }
 },
 "nbformat": 4,
 "nbformat_minor": 2
}
